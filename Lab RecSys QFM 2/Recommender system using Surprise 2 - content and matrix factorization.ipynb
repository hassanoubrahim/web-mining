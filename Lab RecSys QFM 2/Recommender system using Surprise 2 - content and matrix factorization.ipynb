{
 "cells": [
  {
   "cell_type": "code",
   "execution_count": 1,
   "metadata": {},
   "outputs": [],
   "source": [
    "import pandas as pd\n",
    "import numpy as np\n",
    "import matplotlib.pyplot as plt\n",
    "import seaborn as sns"
   ]
  },
  {
   "cell_type": "code",
   "execution_count": 2,
   "metadata": {},
   "outputs": [],
   "source": [
    "from surprise import SVD, KNNBasic\n",
    "from surprise import Dataset\n",
    "from surprise.model_selection import cross_validate\n",
    "from surprise.model_selection import GridSearchCV\n",
    "from surprise.reader import Reader"
   ]
  },
  {
   "cell_type": "code",
   "execution_count": 3,
   "metadata": {},
   "outputs": [
    {
     "name": "stdout",
     "output_type": "stream",
     "text": [
      "Trying to download dataset from https://files.grouplens.org/datasets/movielens/ml-100k.zip...\n",
      "Done! Dataset ml-100k has been saved to /home/houbr/.surprise_data/ml-100k\n"
     ]
    }
   ],
   "source": [
    "data = Dataset.load_builtin('ml-100k', prompt = False)"
   ]
  },
  {
   "cell_type": "code",
   "execution_count": 4,
   "metadata": {},
   "outputs": [
    {
     "name": "stdout",
     "output_type": "stream",
     "text": [
      "Estimating biases using sgd...\n",
      "Estimating biases using sgd...\n",
      "Estimating biases using sgd...\n"
     ]
    },
    {
     "data": {
      "text/plain": [
       "{'test_rmse': array([0.95531459, 0.96316563, 0.95892589]),\n",
       " 'fit_time': (0.3186800479888916, 0.15973806381225586, 0.1464223861694336),\n",
       " 'test_time': (0.3511078357696533, 0.4431924819946289, 0.22075414657592773)}"
      ]
     },
     "execution_count": 4,
     "metadata": {},
     "output_type": "execute_result"
    }
   ],
   "source": [
    "from surprise import BaselineOnly\n",
    "bsl_options = {'method': 'sgd',\n",
    "               'n_epochs': 5,\n",
    "               'reg_u': 12,\n",
    "               'reg_i': 5\n",
    "               }\n",
    "algo = BaselineOnly(bsl_options=bsl_options)\n",
    "cross_validate(algo, data, measures=['RMSE'], cv=3, verbose=False)"
   ]
  },
  {
   "cell_type": "markdown",
   "metadata": {},
   "source": [
    "> Question: Change the method parameter by replacing sgd by als. Is the rms improving?"
   ]
  },
  {
   "cell_type": "code",
   "execution_count": 7,
   "metadata": {},
   "outputs": [
    {
     "name": "stdout",
     "output_type": "stream",
     "text": [
      "Estimating biases using als...\n",
      "Estimating biases using als...\n",
      "Estimating biases using als...\n"
     ]
    },
    {
     "data": {
      "text/plain": [
       "{'test_rmse': array([0.94558253, 0.94242038, 0.9453064 ]),\n",
       " 'fit_time': (0.10826706886291504, 0.12267184257507324, 0.18092870712280273),\n",
       " 'test_time': (0.19828057289123535, 0.11392521858215332, 0.2037487030029297)}"
      ]
     },
     "execution_count": 7,
     "metadata": {},
     "output_type": "execute_result"
    }
   ],
   "source": [
    "#answer\n",
    "from surprise import BaselineOnly\n",
    "bsl_options = {'method': 'als',\n",
    "               'n_epochs': 5,\n",
    "               'reg_u': 12,\n",
    "               'reg_i': 5\n",
    "               }\n",
    "algo = BaselineOnly(bsl_options=bsl_options)\n",
    "cross_validate(algo, data, measures=['RMSE'], cv=3, verbose=False)"
   ]
  },
  {
   "cell_type": "markdown",
   "metadata": {},
   "source": [
    "=> the rms is not improving, but it took less time than SGD"
   ]
  },
  {
   "cell_type": "code",
   "execution_count": 8,
   "metadata": {},
   "outputs": [
    {
     "name": "stdout",
     "output_type": "stream",
     "text": [
      "Evaluating RMSE, MAE of algorithm SVD on 5 split(s).\n",
      "\n",
      "                  Fold 1  Fold 2  Fold 3  Fold 4  Fold 5  Mean    Std     \n",
      "RMSE (testset)    0.9410  0.9328  0.9357  0.9378  0.9350  0.9364  0.0028  \n",
      "MAE (testset)     0.7421  0.7343  0.7374  0.7392  0.7361  0.7378  0.0027  \n",
      "Fit time          1.07    1.03    1.01    1.02    1.01    1.03    0.02    \n",
      "Test time         0.12    0.10    0.10    0.10    0.10    0.11    0.01    \n"
     ]
    },
    {
     "data": {
      "text/plain": [
       "{'test_rmse': array([0.94103481, 0.93275182, 0.93565782, 0.93779242, 0.93497388]),\n",
       " 'test_mae': array([0.74213082, 0.73432645, 0.7373885 , 0.73923223, 0.73610221]),\n",
       " 'fit_time': (1.0696797370910645,\n",
       "  1.0260512828826904,\n",
       "  1.0126805305480957,\n",
       "  1.0151383876800537,\n",
       "  1.007152795791626),\n",
       " 'test_time': (0.12108063697814941,\n",
       "  0.10451674461364746,\n",
       "  0.10069727897644043,\n",
       "  0.09929466247558594,\n",
       "  0.10394454002380371)}"
      ]
     },
     "execution_count": 8,
     "metadata": {},
     "output_type": "execute_result"
    }
   ],
   "source": [
    "\n",
    "# Let's use SVD seen in the course.\n",
    "algo = SVD()\n",
    "#  5-fold cross-validation showing results \n",
    "cross_validate(algo, data, measures=['RMSE', 'MAE'], cv=5, verbose=True)"
   ]
  },
  {
   "cell_type": "markdown",
   "metadata": {},
   "source": [
    "## this SVD  is said to be biased:\n",
    "https://surprise.readthedocs.io/en/stable/matrix_factorization.html#matrix-factorization-based-algorithms\n",
    "\n",
    "## we will specify the optimal number of factors using GreadSearchCV."
   ]
  },
  {
   "cell_type": "code",
   "execution_count": 9,
   "metadata": {},
   "outputs": [
    {
     "name": "stdout",
     "output_type": "stream",
     "text": [
      "0.9347797020475473\n",
      "{'n_factors': 29}\n"
     ]
    }
   ],
   "source": [
    "param_grid = {'n_factors': [4,6,9,11,14,18,29]}\n",
    "gs = GridSearchCV(SVD, param_grid, measures=['rmse'], cv=5)\n",
    "gs.fit(data)\n",
    "\n",
    "\n",
    "# the best RMSE\n",
    "print(gs.best_score['rmse'])\n",
    "\n",
    "# parameters behind this performance\n",
    "print(gs.best_params['rmse'])"
   ]
  },
  {
   "cell_type": "markdown",
   "metadata": {},
   "source": [
    "## To get this number of factors in a more concise way, we will use cross-validation by proving it graphically "
   ]
  },
  {
   "cell_type": "code",
   "execution_count": 10,
   "metadata": {},
   "outputs": [],
   "source": [
    "def rmse_vs_factors(algorithm, data):\n",
    "    \n",
    "   \n",
    "  \n",
    "    rmse_algorithm = []\n",
    "  \n",
    "    for k in range(4,20,1):\n",
    "        algo = algorithm(n_factors = k)\n",
    "    \n",
    "        #[\"test_rmse\"] is a numpy array with the min RMSE in each test set\n",
    "        loss_fce = cross_validate(algo, data, measures=['RMSE'], cv=5, verbose=False)[\"test_rmse\"].mean() \n",
    "        rmse_algorithm.append(loss_fce)\n",
    "        \n",
    "    return rmse_algorithm"
   ]
  },
  {
   "cell_type": "code",
   "execution_count": 11,
   "metadata": {},
   "outputs": [],
   "source": [
    "rmse_svd = rmse_vs_factors(SVD,data)"
   ]
  },
  {
   "cell_type": "code",
   "execution_count": 12,
   "metadata": {},
   "outputs": [],
   "source": [
    "def plot_rmse(rmse, algorithm):\n",
    "    plt.figure(num=None, figsize=(11, 5), dpi=80, facecolor='w', edgecolor='k')\n",
    "\n",
    "    plt.subplot(2,1,1)\n",
    "    plt.plot(rmse)\n",
    "    plt.xlim(0,20)\n",
    "    plt.title(\"{0} Performance: RMSE contre le nbre de Facteurs\".format(algorithm), size = 20 )\n",
    "    plt.ylabel(\"Mean RMSE (cv=5)\")\n",
    "\n",
    "    plt.subplot(2,1,2)\n",
    "    plt.plot(rmse)\n",
    "    plt.xlim(0,20)\n",
    "    plt.xticks(np.arange(0, 20, step=2))\n",
    "\n",
    "    plt.xlabel(\"{0}(facteur = k)\".format(algorithm))\n",
    "    plt.ylabel(\"Mean RMSE (cv=5)\")\n",
    "    plt.axvline(np.argmin(rmse), color = \"r\")\n",
    "  \n",
    "  "
   ]
  },
  {
   "cell_type": "code",
   "execution_count": 13,
   "metadata": {},
   "outputs": [
    {
     "data": {
      "image/png": "[encoded data removed]",
      "text/plain": [
       "<Figure size 880x400 with 2 Axes>"
      ]
     },
     "metadata": {},
     "output_type": "display_data"
    }
   ],
   "source": [
    "plot_rmse(rmse_svd,\"SVD\")"
   ]
  },
  {
   "cell_type": "markdown",
   "metadata": {},
   "source": [
    "### Questions: \n",
    "\n",
    "the different parameters of the SVD: https://surprise.readthedocs.io/en/stable/matrix_factorization.html#matrix-factorization-based-algorithms\n",
    "also: https://surprise.readthedocs.io/en/stable/basic_algorithms.html#surprise.prediction_algorithms.baseline_only.BaselineOnly\n",
    "\n",
    "1. Using GridSearchCV show the best combination of parameters for the baselineonly version\n",
    "2. Using GridSearchCV, display the best combination of parameters for the biased version\n",
    "3. Same question for the unbiased version\n",
    "4. redo the same work (i.e., 1 and 2 and 3) using RandomizedSearchCV "
   ]
  },
  {
   "cell_type": "code",
   "execution_count": 19,
   "metadata": {},
   "outputs": [
    {
     "ename": "TypeError",
     "evalue": "'BaselineOnly' object is not callable",
     "output_type": "error",
     "traceback": [
      "\u001b[0;31m---------------------------------------------------------------------------\u001b[0m",
      "\u001b[0;31mEmpty\u001b[0m                                     Traceback (most recent call last)",
      "File \u001b[0;32m/usr/local/lib/python3.8/dist-packages/joblib/parallel.py:862\u001b[0m, in \u001b[0;36mParallel.dispatch_one_batch\u001b[0;34m(self, iterator)\u001b[0m\n\u001b[1;32m    861\u001b[0m \u001b[38;5;28;01mtry\u001b[39;00m:\n\u001b[0;32m--> 862\u001b[0m     tasks \u001b[38;5;241m=\u001b[39m \u001b[38;5;28;43mself\u001b[39;49m\u001b[38;5;241;43m.\u001b[39;49m\u001b[43m_ready_batches\u001b[49m\u001b[38;5;241;43m.\u001b[39;49m\u001b[43mget\u001b[49m\u001b[43m(\u001b[49m\u001b[43mblock\u001b[49m\u001b[38;5;241;43m=\u001b[39;49m\u001b[38;5;28;43;01mFalse\u001b[39;49;00m\u001b[43m)\u001b[49m\n\u001b[1;32m    863\u001b[0m \u001b[38;5;28;01mexcept\u001b[39;00m queue\u001b[38;5;241m.\u001b[39mEmpty:\n\u001b[1;32m    864\u001b[0m     \u001b[38;5;66;03m# slice the iterator n_jobs * batchsize items at a time. If the\u001b[39;00m\n\u001b[1;32m    865\u001b[0m     \u001b[38;5;66;03m# slice returns less than that, then the current batchsize puts\u001b[39;00m\n\u001b[0;32m   (...)\u001b[0m\n\u001b[1;32m    868\u001b[0m     \u001b[38;5;66;03m# accordingly to distribute evenly the last items between all\u001b[39;00m\n\u001b[1;32m    869\u001b[0m     \u001b[38;5;66;03m# workers.\u001b[39;00m\n",
      "File \u001b[0;32m/usr/lib/python3.8/queue.py:167\u001b[0m, in \u001b[0;36mQueue.get\u001b[0;34m(self, block, timeout)\u001b[0m\n\u001b[1;32m    166\u001b[0m     \u001b[38;5;28;01mif\u001b[39;00m \u001b[38;5;129;01mnot\u001b[39;00m \u001b[38;5;28mself\u001b[39m\u001b[38;5;241m.\u001b[39m_qsize():\n\u001b[0;32m--> 167\u001b[0m         \u001b[38;5;28;01mraise\u001b[39;00m Empty\n\u001b[1;32m    168\u001b[0m \u001b[38;5;28;01melif\u001b[39;00m timeout \u001b[38;5;129;01mis\u001b[39;00m \u001b[38;5;28;01mNone\u001b[39;00m:\n",
      "\u001b[0;31mEmpty\u001b[0m: ",
      "\nDuring handling of the above exception, another exception occurred:\n",
      "\u001b[0;31mTypeError\u001b[0m                                 Traceback (most recent call last)",
      "Input \u001b[0;32mIn [19]\u001b[0m, in \u001b[0;36m<cell line: 39>\u001b[0;34m()\u001b[0m\n\u001b[1;32m     37\u001b[0m \u001b[38;5;66;03m# GridSearchCV for BaselineOnly\u001b[39;00m\n\u001b[1;32m     38\u001b[0m gs_baseline \u001b[38;5;241m=\u001b[39m GridSearchCV(algo_baseline, param_grid_baseline, measures\u001b[38;5;241m=\u001b[39m[\u001b[38;5;124m'\u001b[39m\u001b[38;5;124mrmse\u001b[39m\u001b[38;5;124m'\u001b[39m], cv\u001b[38;5;241m=\u001b[39m\u001b[38;5;241m3\u001b[39m)\n\u001b[0;32m---> 39\u001b[0m \u001b[43mgs_baseline\u001b[49m\u001b[38;5;241;43m.\u001b[39;49m\u001b[43mfit\u001b[49m\u001b[43m(\u001b[49m\u001b[43mdata\u001b[49m\u001b[43m)\u001b[49m\n\u001b[1;32m     41\u001b[0m \u001b[38;5;66;03m# GridSearchCV for Biased version\u001b[39;00m\n\u001b[1;32m     42\u001b[0m gs_biased \u001b[38;5;241m=\u001b[39m GridSearchCV(algo_biased, param_grid_biased, measures\u001b[38;5;241m=\u001b[39m[\u001b[38;5;124m'\u001b[39m\u001b[38;5;124mrmse\u001b[39m\u001b[38;5;124m'\u001b[39m], cv\u001b[38;5;241m=\u001b[39m\u001b[38;5;241m3\u001b[39m)\n",
      "File \u001b[0;32m/usr/local/lib/python3.8/dist-packages/surprise/model_selection/search.py:104\u001b[0m, in \u001b[0;36mBaseSearchCV.fit\u001b[0;34m(self, data)\u001b[0m\n\u001b[1;32m     90\u001b[0m cv \u001b[38;5;241m=\u001b[39m get_cv(\u001b[38;5;28mself\u001b[39m\u001b[38;5;241m.\u001b[39mcv)\n\u001b[1;32m     92\u001b[0m delayed_list \u001b[38;5;241m=\u001b[39m (\n\u001b[1;32m     93\u001b[0m     delayed(fit_and_score)(\n\u001b[1;32m     94\u001b[0m         \u001b[38;5;28mself\u001b[39m\u001b[38;5;241m.\u001b[39malgo_class(\u001b[38;5;241m*\u001b[39m\u001b[38;5;241m*\u001b[39mparams),\n\u001b[0;32m   (...)\u001b[0m\n\u001b[1;32m    102\u001b[0m     )\n\u001b[1;32m    103\u001b[0m )\n\u001b[0;32m--> 104\u001b[0m out \u001b[38;5;241m=\u001b[39m \u001b[43mParallel\u001b[49m\u001b[43m(\u001b[49m\n\u001b[1;32m    105\u001b[0m \u001b[43m    \u001b[49m\u001b[43mn_jobs\u001b[49m\u001b[38;5;241;43m=\u001b[39;49m\u001b[38;5;28;43mself\u001b[39;49m\u001b[38;5;241;43m.\u001b[39;49m\u001b[43mn_jobs\u001b[49m\u001b[43m,\u001b[49m\n\u001b[1;32m    106\u001b[0m \u001b[43m    \u001b[49m\u001b[43mpre_dispatch\u001b[49m\u001b[38;5;241;43m=\u001b[39;49m\u001b[38;5;28;43mself\u001b[39;49m\u001b[38;5;241;43m.\u001b[39;49m\u001b[43mpre_dispatch\u001b[49m\u001b[43m,\u001b[49m\n\u001b[1;32m    107\u001b[0m \u001b[43m    \u001b[49m\u001b[43mverbose\u001b[49m\u001b[38;5;241;43m=\u001b[39;49m\u001b[38;5;28;43mself\u001b[39;49m\u001b[38;5;241;43m.\u001b[39;49m\u001b[43mjoblib_verbose\u001b[49m\u001b[43m,\u001b[49m\n\u001b[1;32m    108\u001b[0m \u001b[43m\u001b[49m\u001b[43m)\u001b[49m\u001b[43m(\u001b[49m\u001b[43mdelayed_list\u001b[49m\u001b[43m)\u001b[49m\n\u001b[1;32m    110\u001b[0m (test_measures_dicts, train_measures_dicts, fit_times, test_times) \u001b[38;5;241m=\u001b[39m \u001b[38;5;28mzip\u001b[39m(\u001b[38;5;241m*\u001b[39mout)\n\u001b[1;32m    112\u001b[0m \u001b[38;5;66;03m# test_measures_dicts is a list of dict like this:\u001b[39;00m\n\u001b[1;32m    113\u001b[0m \u001b[38;5;66;03m# [{'mae': 1, 'rmse': 2}, {'mae': 2, 'rmse': 3} ...]\u001b[39;00m\n\u001b[1;32m    114\u001b[0m \u001b[38;5;66;03m# E.g. for 5 splits, the first 5 dicts are for the first param\u001b[39;00m\n\u001b[0;32m   (...)\u001b[0m\n\u001b[1;32m    121\u001b[0m \u001b[38;5;66;03m# (n_parameters_combinations, n_splits). This way we can easily compute\u001b[39;00m\n\u001b[1;32m    122\u001b[0m \u001b[38;5;66;03m# the mean and std dev over all splits or over all param comb.\u001b[39;00m\n",
      "File \u001b[0;32m/usr/local/lib/python3.8/dist-packages/joblib/parallel.py:1085\u001b[0m, in \u001b[0;36mParallel.__call__\u001b[0;34m(self, iterable)\u001b[0m\n\u001b[1;32m   1076\u001b[0m \u001b[38;5;28;01mtry\u001b[39;00m:\n\u001b[1;32m   1077\u001b[0m     \u001b[38;5;66;03m# Only set self._iterating to True if at least a batch\u001b[39;00m\n\u001b[1;32m   1078\u001b[0m     \u001b[38;5;66;03m# was dispatched. In particular this covers the edge\u001b[39;00m\n\u001b[0;32m   (...)\u001b[0m\n\u001b[1;32m   1082\u001b[0m     \u001b[38;5;66;03m# was very quick and its callback already dispatched all the\u001b[39;00m\n\u001b[1;32m   1083\u001b[0m     \u001b[38;5;66;03m# remaining jobs.\u001b[39;00m\n\u001b[1;32m   1084\u001b[0m     \u001b[38;5;28mself\u001b[39m\u001b[38;5;241m.\u001b[39m_iterating \u001b[38;5;241m=\u001b[39m \u001b[38;5;28;01mFalse\u001b[39;00m\n\u001b[0;32m-> 1085\u001b[0m     \u001b[38;5;28;01mif\u001b[39;00m \u001b[38;5;28;43mself\u001b[39;49m\u001b[38;5;241;43m.\u001b[39;49m\u001b[43mdispatch_one_batch\u001b[49m\u001b[43m(\u001b[49m\u001b[43miterator\u001b[49m\u001b[43m)\u001b[49m:\n\u001b[1;32m   1086\u001b[0m         \u001b[38;5;28mself\u001b[39m\u001b[38;5;241m.\u001b[39m_iterating \u001b[38;5;241m=\u001b[39m \u001b[38;5;28mself\u001b[39m\u001b[38;5;241m.\u001b[39m_original_iterator \u001b[38;5;129;01mis\u001b[39;00m \u001b[38;5;129;01mnot\u001b[39;00m \u001b[38;5;28;01mNone\u001b[39;00m\n\u001b[1;32m   1088\u001b[0m     \u001b[38;5;28;01mwhile\u001b[39;00m \u001b[38;5;28mself\u001b[39m\u001b[38;5;241m.\u001b[39mdispatch_one_batch(iterator):\n",
      "File \u001b[0;32m/usr/local/lib/python3.8/dist-packages/joblib/parallel.py:873\u001b[0m, in \u001b[0;36mParallel.dispatch_one_batch\u001b[0;34m(self, iterator)\u001b[0m\n\u001b[1;32m    870\u001b[0m n_jobs \u001b[38;5;241m=\u001b[39m \u001b[38;5;28mself\u001b[39m\u001b[38;5;241m.\u001b[39m_cached_effective_n_jobs\n\u001b[1;32m    871\u001b[0m big_batch_size \u001b[38;5;241m=\u001b[39m batch_size \u001b[38;5;241m*\u001b[39m n_jobs\n\u001b[0;32m--> 873\u001b[0m islice \u001b[38;5;241m=\u001b[39m \u001b[38;5;28;43mlist\u001b[39;49m\u001b[43m(\u001b[49m\u001b[43mitertools\u001b[49m\u001b[38;5;241;43m.\u001b[39;49m\u001b[43mislice\u001b[49m\u001b[43m(\u001b[49m\u001b[43miterator\u001b[49m\u001b[43m,\u001b[49m\u001b[43m \u001b[49m\u001b[43mbig_batch_size\u001b[49m\u001b[43m)\u001b[49m\u001b[43m)\u001b[49m\n\u001b[1;32m    874\u001b[0m \u001b[38;5;28;01mif\u001b[39;00m \u001b[38;5;28mlen\u001b[39m(islice) \u001b[38;5;241m==\u001b[39m \u001b[38;5;241m0\u001b[39m:\n\u001b[1;32m    875\u001b[0m     \u001b[38;5;28;01mreturn\u001b[39;00m \u001b[38;5;28;01mFalse\u001b[39;00m\n",
      "File \u001b[0;32m/usr/local/lib/python3.8/dist-packages/surprise/model_selection/search.py:94\u001b[0m, in \u001b[0;36m<genexpr>\u001b[0;34m(.0)\u001b[0m\n\u001b[1;32m     85\u001b[0m     \u001b[38;5;28;01mraise\u001b[39;00m \u001b[38;5;167;01mValueError\u001b[39;00m(\n\u001b[1;32m     86\u001b[0m         \u001b[38;5;124m\"\u001b[39m\u001b[38;5;124mrefit cannot be used when data has been \u001b[39m\u001b[38;5;124m\"\u001b[39m\n\u001b[1;32m     87\u001b[0m         \u001b[38;5;124m\"\u001b[39m\u001b[38;5;124mloaded with load_from_folds().\u001b[39m\u001b[38;5;124m\"\u001b[39m\n\u001b[1;32m     88\u001b[0m     )\n\u001b[1;32m     90\u001b[0m cv \u001b[38;5;241m=\u001b[39m get_cv(\u001b[38;5;28mself\u001b[39m\u001b[38;5;241m.\u001b[39mcv)\n\u001b[1;32m     92\u001b[0m delayed_list \u001b[38;5;241m=\u001b[39m (\n\u001b[1;32m     93\u001b[0m     delayed(fit_and_score)(\n\u001b[0;32m---> 94\u001b[0m         \u001b[38;5;28;43mself\u001b[39;49m\u001b[38;5;241;43m.\u001b[39;49m\u001b[43malgo_class\u001b[49m\u001b[43m(\u001b[49m\u001b[38;5;241;43m*\u001b[39;49m\u001b[38;5;241;43m*\u001b[39;49m\u001b[43mparams\u001b[49m\u001b[43m)\u001b[49m,\n\u001b[1;32m     95\u001b[0m         trainset,\n\u001b[1;32m     96\u001b[0m         testset,\n\u001b[1;32m     97\u001b[0m         \u001b[38;5;28mself\u001b[39m\u001b[38;5;241m.\u001b[39mmeasures,\n\u001b[1;32m     98\u001b[0m         \u001b[38;5;28mself\u001b[39m\u001b[38;5;241m.\u001b[39mreturn_train_measures,\n\u001b[1;32m     99\u001b[0m     )\n\u001b[1;32m    100\u001b[0m     \u001b[38;5;28;01mfor\u001b[39;00m params, (trainset, testset) \u001b[38;5;129;01min\u001b[39;00m product(\n\u001b[1;32m    101\u001b[0m         \u001b[38;5;28mself\u001b[39m\u001b[38;5;241m.\u001b[39mparam_combinations, cv\u001b[38;5;241m.\u001b[39msplit(data)\n\u001b[1;32m    102\u001b[0m     )\n\u001b[1;32m    103\u001b[0m )\n\u001b[1;32m    104\u001b[0m out \u001b[38;5;241m=\u001b[39m Parallel(\n\u001b[1;32m    105\u001b[0m     n_jobs\u001b[38;5;241m=\u001b[39m\u001b[38;5;28mself\u001b[39m\u001b[38;5;241m.\u001b[39mn_jobs,\n\u001b[1;32m    106\u001b[0m     pre_dispatch\u001b[38;5;241m=\u001b[39m\u001b[38;5;28mself\u001b[39m\u001b[38;5;241m.\u001b[39mpre_dispatch,\n\u001b[1;32m    107\u001b[0m     verbose\u001b[38;5;241m=\u001b[39m\u001b[38;5;28mself\u001b[39m\u001b[38;5;241m.\u001b[39mjoblib_verbose,\n\u001b[1;32m    108\u001b[0m )(delayed_list)\n\u001b[1;32m    110\u001b[0m (test_measures_dicts, train_measures_dicts, fit_times, test_times) \u001b[38;5;241m=\u001b[39m \u001b[38;5;28mzip\u001b[39m(\u001b[38;5;241m*\u001b[39mout)\n",
      "\u001b[0;31mTypeError\u001b[0m: 'BaselineOnly' object is not callable"
     ]
    }
   ],
   "source": [
    "#Using GridSearchCV show the best combination of parameters for the baselineonly version\n",
    "\n",
    "# Parameter grid for BaselineOnly\n",
    "param_grid_baseline = {\n",
    "    'bsl_options': {\n",
    "        'method': ['als', 'sgd'],\n",
    "        'reg': [0.02, 0.05, 0.1],\n",
    "        'learning_rate': [0.005, 0.01, 0.02],\n",
    "    }\n",
    "}\n",
    "\n",
    "# Parameter grid for Biased version\n",
    "param_grid_biased = {\n",
    "    'biased': [True],\n",
    "    'bsl_options': {\n",
    "        'method': ['als', 'sgd'],\n",
    "        'reg': [0.02, 0.05, 0.1],\n",
    "        'learning_rate': [0.005, 0.01, 0.02],\n",
    "    }\n",
    "}\n",
    "\n",
    "# Parameter grid for Unbiased version\n",
    "param_grid_unbiased = {\n",
    "    'biased': [False],\n",
    "    'bsl_options': {\n",
    "        'method': ['als', 'sgd'],\n",
    "        'reg': [0.02, 0.05, 0.1],\n",
    "        'learning_rate': [0.005, 0.01, 0.02],\n",
    "    }\n",
    "}\n",
    "\n",
    "# Define the algorithm objects\n",
    "algo_baseline = BaselineOnly()\n",
    "algo_biased = SVD()\n",
    "algo_unbiased = SVD()\n",
    "\n",
    "# GridSearchCV for BaselineOnly\n",
    "gs_baseline = GridSearchCV(algo_baseline, param_grid_baseline, measures=['rmse'], cv=3)\n",
    "gs_baseline.fit(data)\n",
    "\n",
    "# GridSearchCV for Biased version\n",
    "gs_biased = GridSearchCV(algo_biased, param_grid_biased, measures=['rmse'], cv=3)\n",
    "gs_biased.fit(data)\n",
    "\n",
    "# GridSearchCV for Unbiased version\n",
    "gs_unbiased = GridSearchCV(algo_unbiased, param_grid_unbiased, measures=['rmse'], cv=3)\n",
    "gs_unbiased.fit(data)\n"
   ]
  },
  {
   "cell_type": "code",
   "execution_count": null,
   "metadata": {},
   "outputs": [],
   "source": [
    "# Best combination of parameters for BaselineOnly\n",
    "print(\"Best parameters for BaselineOnly:\")\n",
    "print(gs_baseline.best_params['rmse'])\n",
    "\n",
    "# Best combination of parameters for Biased version\n",
    "print(\"Best parameters for Biased version:\")\n",
    "print(gs_biased.best_params['rmse'])\n",
    "\n",
    "# Best combination of parameters for Unbiased version\n",
    "print(\"Best parameters for Unbiased version:\")\n",
    "print(gs_unbiased.best_params['rmse'])\n"
   ]
  }
 ],
 "metadata": {
  "kernelspec": {
   "display_name": "Python 3 (ipykernel)",
   "language": "python",
   "name": "python3"
  },
  "language_info": {
   "codemirror_mode": {
    "name": "ipython",
    "version": 3
   },
   "file_extension": ".py",
   "mimetype": "text/x-python",
   "name": "python",
   "nbconvert_exporter": "python",
   "pygments_lexer": "ipython3",
   "version": "3.8.10"
  }
 },
 "nbformat": 4,
 "nbformat_minor": 2
}
