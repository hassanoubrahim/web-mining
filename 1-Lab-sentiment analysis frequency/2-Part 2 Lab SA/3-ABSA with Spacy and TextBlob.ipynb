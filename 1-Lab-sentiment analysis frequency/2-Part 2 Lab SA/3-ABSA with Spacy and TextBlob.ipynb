{
 "cells": [
  {
   "cell_type": "code",
   "execution_count": null,
   "metadata": {},
   "outputs": [],
   "source": [
    "!pip install spacy"
   ]
  },
  {
   "cell_type": "code",
   "execution_count": null,
   "metadata": {},
   "outputs": [],
   "source": [
    "!python -m spacy download en_core_web_sm"
   ]
  },
  {
   "cell_type": "code",
   "execution_count": 1,
   "metadata": {},
   "outputs": [],
   "source": [
    "import spacy\n",
    "nlp = spacy.load(\"en_core_web_sm\")"
   ]
  },
  {
   "cell_type": "code",
   "execution_count": 2,
   "metadata": {},
   "outputs": [],
   "source": [
    "sentences = [\n",
    "  'The food we had yesterday was delicious',\n",
    "  'My time in Italy was very enjoyable',\n",
    "  'I found the meal to be tasty',\n",
    "  'The internet was slow.',\n",
    "  'Our experience was suboptimal'\n",
    "]"
   ]
  },
  {
   "cell_type": "markdown",
   "metadata": {},
   "source": [
    "### We are going to split our sentences in such a way as to obtain the aspect (ex: food) and its expression (ex: delicious)\n",
    "\n",
    "For each token inside our sentences, we can see the dependency through spacy's dependency analysis and POS (Part-Of-Speech)tags\n",
    "https://spacy.io/usage/linguistic-features"
   ]
  },
  {
   "cell_type": "code",
   "execution_count": 3,
   "metadata": {},
   "outputs": [
    {
     "name": "stdout",
     "output_type": "stream",
     "text": [
      "The det food NOUN DET []\n",
      "food nsubj was AUX NOUN [The, had]\n",
      "we nsubj had VERB PRON []\n",
      "had relcl food NOUN VERB [we, yesterday]\n",
      "yesterday npadvmod had VERB NOUN []\n",
      "was ROOT was AUX AUX [food, delicious]\n",
      "delicious acomp was AUX ADJ []\n",
      "My poss time NOUN PRON []\n",
      "time nsubj was AUX NOUN [My, in]\n",
      "in prep time NOUN ADP [Italy]\n",
      "Italy pobj in ADP PROPN []\n",
      "was ROOT was AUX AUX [time, enjoyable]\n",
      "very advmod enjoyable ADJ ADV []\n",
      "enjoyable acomp was AUX ADJ [very]\n",
      "I nsubj found VERB PRON []\n",
      "found ROOT found VERB VERB [I, be]\n",
      "the det meal NOUN DET []\n",
      "meal nsubj be AUX NOUN [the]\n",
      "to aux be AUX PART []\n",
      "be ccomp found VERB AUX [meal, to, tasty]\n",
      "tasty acomp be AUX ADJ []\n",
      "The det internet NOUN DET []\n",
      "internet nsubj was AUX NOUN [The]\n",
      "was ROOT was AUX AUX [internet, slow, .]\n",
      "slow acomp was AUX ADJ []\n",
      ". punct was AUX PUNCT []\n",
      "Our poss experience NOUN PRON []\n",
      "experience nsubj was AUX NOUN [Our]\n",
      "was ROOT was AUX AUX [experience, suboptimal]\n",
      "suboptimal acomp was AUX ADJ []\n"
     ]
    }
   ],
   "source": [
    "for sentence in sentences:\n",
    "  doc = nlp(sentence)\n",
    "  for token in doc:\n",
    "    print(token.text, token.dep_, token.head.text, token.head.pos_,token.pos_,[child for child in token.children])"
   ]
  },
  {
   "cell_type": "markdown",
   "metadata": {},
   "source": [
    "Below is an example of dependency visualization in a sentence:\n",
    "\n",
    "https://spacy.io/usage/visualizers"
   ]
  },
  {
   "cell_type": "code",
   "execution_count": 4,
   "metadata": {},
   "outputs": [
    {
     "name": "stderr",
     "output_type": "stream",
     "text": [
      "/usr/local/lib/python3.8/dist-packages/spacy/displacy/__init__.py:108: UserWarning: [W011] It looks like you're calling displacy.serve from within a Jupyter notebook or a similar environment. This likely means you're already running a local web server, so there's no need to make displaCy start another one. Instead, you should be able to replace displacy.serve with displacy.render to show the visualization.\n",
      "  warnings.warn(Warnings.W011)\n"
     ]
    },
    {
     "data": {
      "text/html": [
       "<span class=\"tex2jax_ignore\"><!DOCTYPE html>\n",
       "<html lang=\"en\">\n",
       "    <head>\n",
       "        <title>displaCy</title>\n",
       "    </head>\n",
       "\n",
       "    <body style=\"font-size: 16px; font-family: -apple-system, BlinkMacSystemFont, 'Segoe UI', Helvetica, Arial, sans-serif, 'Apple Color Emoji', 'Segoe UI Emoji', 'Segoe UI Symbol'; padding: 4rem 2rem; direction: ltr\">\n",
       "<figure style=\"margin-bottom: 6rem\">\n",
       "<div class=\"entities\" style=\"line-height: 2.5; direction: ltr\">The food we had \n",
       "<mark class=\"entity\" style=\"background: #bfe1d9; padding: 0.45em 0.6em; margin: 0 0.25em; line-height: 1; border-radius: 0.35em;\">\n",
       "    yesterday\n",
       "    <span style=\"font-size: 0.8em; font-weight: bold; line-height: 1; border-radius: 0.35em; vertical-align: middle; margin-left: 0.5rem\">DATE</span>\n",
       "</mark>\n",
       " was delicious</div>\n",
       "</figure>\n",
       "</body>\n",
       "</html></span>"
      ],
      "text/plain": [
       "<IPython.core.display.HTML object>"
      ]
     },
     "metadata": {},
     "output_type": "display_data"
    },
    {
     "name": "stdout",
     "output_type": "stream",
     "text": [
      "\n",
      "Using the 'ent' visualizer\n",
      "Serving on http://0.0.0.0:5000 ...\n",
      "\n"
     ]
    },
    {
     "name": "stderr",
     "output_type": "stream",
     "text": [
      "127.0.0.1 - - [06/Jun/2023 10:53:51] code 400, message Bad request version ('::\\x13\\x01\\x13\\x02\\x13\\x03À+À/À,À0Ì©Ì¨À\\x13À\\x14\\x00\\x9c\\x00\\x9d\\x00/\\x005\\x01\\x00\\x01\\x93JJ\\x00\\x00\\x00+\\x00\\x07\\x06jj\\x03\\x04\\x03\\x03\\x00')\n",
      "\u0001^¤`\u0001\u0012JP?\u0000 ::\u0013\u0001\u0013\u0002\u0013\u0003À+À/À,À0Ì©Ì¨À\u0013À\u0014\u0000\u0000\u0000/\u00005\u0001\u0000\u0001JJ\u0000\u0000\u0000+\u0000\u0007\u0006jj\u0003\u0004\u0003\u0003\u0000\" 400 -üÀ\u0012Â7 s¹\u001d",
      "ê3NÈëqü©ÂÍkØì\u000eÎ\u000b",
      "\n",
      "127.0.0.1 - - [06/Jun/2023 10:53:51] code 400, message Bad request version ('\\x17½\\x00')\n",
      "\u0017½\u0000 \" 400 -ûÿ5wa9òÚz±°lv¹ùwÃ3:51] \"\u0016\u0003\u0001\u0002\u0000\u0001\u0000\u0001ü\u0003\u0003D\u000b",
      "ìÃ´¡Öì/À\u0002êÞÎr¿<\u00046'Dëº9\u0018r­\n",
      "127.0.0.1 - - [06/Jun/2023 10:53:51] \"GET / HTTP/1.1\" 200 774\n",
      "127.0.0.1 - - [06/Jun/2023 10:53:51] \"GET /favicon.ico HTTP/1.1\" 200 774\n",
      "127.0.0.1 - - [06/Jun/2023 10:54:03] \"GET / HTTP/1.1\" 200 774\n",
      "127.0.0.1 - - [06/Jun/2023 10:54:04] \"GET /favicon.ico HTTP/1.1\" 200 774\n",
      "127.0.0.1 - - [06/Jun/2023 10:54:08] code 400, message Bad request version ('\\x00-\\x00\\x02\\x01\\x01\\x00\\x05\\x00\\x05\\x01\\x00\\x00\\x00\\x00Di\\x00\\x05\\x00\\x03\\x02h2\\x00#\\x00\\x00\\x00')\n",
      "127.0.0.1 - - [06/Jun/2023 10:54:08] \"\u0016\u0003\u0001\u0002\u0000\u0001\u0000\u0001ü\u0003\u0003éôñA\u001d",
      "\u001d",
      "\u000eÉ¿\u001f¶7ølqÁb",
      "íú0¥\u001d",
      "ý2\u0013Aà \u0006ÓgV4Ú#\u000b",
      "AL*\u001a\u000b",
      "¬±_\u0003\u0015hÉÆO{ñr,Ë\u0005ZÄÛ\u0000 zz\u0013\u0001\u0013\u0002\u0013\u0003À+À/À,À0Ì©Ì¨À\u0013À\u0014\u0000\u0000\u0000/\u00005\u0001\u0000\u0001êê\u0000\u0000\u00003\u0000+\u0000)êê\u0000\u0001\u0000\u0000\u001d",
      "\u0000 ×\u0015%\u000fô\u0013õ\u0015Nö-\u0016\u0017áÛîH/¨Y}»¼z@T;\f",
      "\u0000-\u0000\u0002\u0001\u0001\u0000\u0005\u0000\u0005\u0001\u0000\u0000\u0000\u0000Di\u0000\u0005\u0000\u0003\u0002h2\u0000#\u0000\u0000\u0000\" 400 -\n",
      "127.0.0.1 - - [06/Jun/2023 10:54:09] code 400, message Bad request version ('\\x00\\x02\\x01\\x00\\x00\\x17\\x00\\x00\\x00')\n",
      "127.0.0.1 - - [06/Jun/2023 10:54:09] \"\u0016\u0003\u0001\u0002\u0000\u0001\u0000\u0001ü\u0003\u0003=GTy¹Vþ:ÅíÒKjF\u0010wy°}±\u0001×Ú\u0015t¢ \u000b",
      "/",
      "©fË0´ÌS¢ü\f",
      "è*ûéÿ.\u0013[|§cÓF70Nô\u0000 zz\u0013\u0001\u0013\u0002\u0013\u0003À+À/À,À0Ì©Ì¨À\u0013À\u0014\u0000\u0000\u0000/\u00005\u0001\u0000\u0001ªª\u0000\u0000\u0000+\u0000\u0007\u0006êê\u0003\u0004\u0003\u0003\u0000\u0012\u0000\u0000\u0000\u0005\u0000\u0005\u0001\u0000\u0000\u0000\u0000\u0000\u0010\u0000\u000e\u0000\f",
      "\u0002hhttp/1.1\u0000\u000b",
      "\u0000\u0002\u0001\u0000\u0000\u0017\u0000\u0000\u0000\" 400 -\n",
      "127.0.0.1 - - [06/Jun/2023 10:54:32] \"GET / HTTP/1.1\" 200 774\n",
      "127.0.0.1 - - [06/Jun/2023 10:54:32] \"GET /favicon.ico HTTP/1.1\" 200 774\n",
      "127.0.0.1 - - [06/Jun/2023 10:54:38] \"GET / HTTP/1.1\" 200 774\n",
      "127.0.0.1 - - [06/Jun/2023 10:54:38] \"GET /favicon.ico HTTP/1.1\" 200 774\n",
      "127.0.0.1 - - [06/Jun/2023 10:54:39] \"GET / HTTP/1.1\" 200 774\n",
      "127.0.0.1 - - [06/Jun/2023 10:54:39] \"GET /favicon.ico HTTP/1.1\" 200 774\n",
      "127.0.0.1 - - [06/Jun/2023 10:54:39] \"GET / HTTP/1.1\" 200 774\n",
      "127.0.0.1 - - [06/Jun/2023 10:54:39] \"GET /favicon.ico HTTP/1.1\" 200 774\n",
      "127.0.0.1 - - [06/Jun/2023 10:54:39] \"GET / HTTP/1.1\" 200 774\n",
      "127.0.0.1 - - [06/Jun/2023 10:54:39] \"GET /favicon.ico HTTP/1.1\" 200 774\n",
      "127.0.0.1 - - [06/Jun/2023 10:54:40] \"GET / HTTP/1.1\" 200 774\n",
      "127.0.0.1 - - [06/Jun/2023 10:54:40] \"GET /favicon.ico HTTP/1.1\" 200 774\n",
      "127.0.0.1 - - [06/Jun/2023 10:54:40] \"GET / HTTP/1.1\" 200 774\n",
      "127.0.0.1 - - [06/Jun/2023 10:54:40] \"GET /favicon.ico HTTP/1.1\" 200 774\n",
      "127.0.0.1 - - [06/Jun/2023 10:54:40] \"GET / HTTP/1.1\" 200 774\n",
      "127.0.0.1 - - [06/Jun/2023 10:54:40] \"GET /favicon.ico HTTP/1.1\" 200 774\n",
      "127.0.0.1 - - [06/Jun/2023 10:54:40] \"GET / HTTP/1.1\" 200 774\n",
      "127.0.0.1 - - [06/Jun/2023 10:54:41] \"GET /favicon.ico HTTP/1.1\" 200 774\n",
      "127.0.0.1 - - [06/Jun/2023 10:54:41] \"GET / HTTP/1.1\" 200 774\n",
      "127.0.0.1 - - [06/Jun/2023 10:54:41] \"GET /favicon.ico HTTP/1.1\" 200 774\n",
      "127.0.0.1 - - [06/Jun/2023 10:54:41] \"GET / HTTP/1.1\" 200 774\n",
      "127.0.0.1 - - [06/Jun/2023 10:54:41] \"GET /favicon.ico HTTP/1.1\" 200 774\n"
     ]
    },
    {
     "name": "stdout",
     "output_type": "stream",
     "text": [
      "Shutting down server on port 5000.\n"
     ]
    }
   ],
   "source": [
    "import spacy\n",
    "from spacy import displacy\n",
    "\n",
    "\n",
    "doc = nlp(\"The food we had yesterday was delicious\")\n",
    "displacy.serve(doc, style=\"ent\")"
   ]
  },
  {
   "cell_type": "markdown",
   "metadata": {},
   "source": [
    "By using the linguistic characteristics and in particular the POS, we will extract the adjectives as expression of sentiment "
   ]
  },
  {
   "cell_type": "code",
   "execution_count": 5,
   "metadata": {},
   "outputs": [
    {
     "name": "stdout",
     "output_type": "stream",
     "text": [
      "The food we had yesterday was delicious\n",
      "delicious\n",
      "My time in Italy was very enjoyable\n",
      "enjoyable\n",
      "I found the meal to be tasty\n",
      "tasty\n",
      "The internet was slow.\n",
      "slow\n",
      "Our experience was suboptimal\n",
      "suboptimal\n"
     ]
    }
   ],
   "source": [
    "for sentence in sentences:\n",
    "  doc = nlp(sentence)\n",
    "  descriptive_term = ''\n",
    "  for token in doc:\n",
    "    if token.pos_ == 'ADJ':\n",
    "      descriptive_term = token\n",
    "  print(sentence)\n",
    "  print(descriptive_term)"
   ]
  },
  {
   "cell_type": "markdown",
   "metadata": {},
   "source": [
    "As you can see, what's missing are intensifiers like \"very\" (we'll avoid adverbs). we will extract them using the children property.  "
   ]
  },
  {
   "cell_type": "code",
   "execution_count": 6,
   "metadata": {},
   "outputs": [
    {
     "name": "stdout",
     "output_type": "stream",
     "text": [
      "The food we had yesterday was delicious\n",
      "delicious\n",
      "My time in Italy was very enjoyable\n",
      "very enjoyable\n",
      "I found the meal to be tasty\n",
      "tasty\n",
      "The internet was slow.\n",
      "slow\n",
      "Our experience was suboptimal\n",
      "suboptimal\n"
     ]
    }
   ],
   "source": [
    "for sentence in sentences:\n",
    "  doc = nlp(sentence)\n",
    "  descriptive_term = ''\n",
    "  for token in doc:\n",
    "    if token.pos_ == 'ADJ':\n",
    "      prepend = ''\n",
    "      for child in token.children:\n",
    "        if child.pos_ != 'ADV':\n",
    "          continue\n",
    "        prepend += child.text + ' '\n",
    "      descriptive_term = prepend + token.text\n",
    "  print(sentence)\n",
    "  print(descriptive_term)"
   ]
  },
  {
   "cell_type": "markdown",
   "metadata": {},
   "source": [
    "We'll put that in a dictionary list"
   ]
  },
  {
   "cell_type": "code",
   "execution_count": 7,
   "metadata": {},
   "outputs": [
    {
     "name": "stdout",
     "output_type": "stream",
     "text": [
      "[{'aspect': 'food', 'description': 'delicious'}, {'aspect': 'time', 'description': 'very enjoyable'}, {'aspect': 'meal', 'description': 'tasty'}, {'aspect': 'internet', 'description': 'slow'}, {'aspect': 'experience', 'description': 'suboptimal'}]\n"
     ]
    }
   ],
   "source": [
    "aspects = []\n",
    "for sentence in sentences:\n",
    "  doc = nlp(sentence)\n",
    "  descriptive_term = ''\n",
    "  target = ''\n",
    "  for token in doc:\n",
    "    if token.dep_ == 'nsubj' and token.pos_ == 'NOUN':\n",
    "      target = token.text\n",
    "    if token.pos_ == 'ADJ':\n",
    "      prepend = ''\n",
    "      for child in token.children:\n",
    "        if child.pos_ != 'ADV':\n",
    "          continue\n",
    "        prepend += child.text + ' '\n",
    "      descriptive_term = prepend + token.text  \n",
    "    \n",
    "  aspects.append({'aspect': target,'description': descriptive_term})\n",
    "print(aspects)"
   ]
  },
  {
   "cell_type": "markdown",
   "metadata": {},
   "source": [
    "### using TextBlob for sentiment extraction"
   ]
  },
  {
   "cell_type": "code",
   "execution_count": null,
   "metadata": {},
   "outputs": [],
   "source": [
    "!pip install TextBlob"
   ]
  },
  {
   "cell_type": "markdown",
   "metadata": {},
   "source": [
    "TextBlob is a library that offers out-of-the-box sentiment analysis. It has a bag of words approach, which means it has a list of words such as “good”, “bad” and “excellent” that have a sentiment score attached to them. It is also able to select modifiers (such as “not”) and intensifiers (such as “very”) that affect the sentiment score. "
   ]
  },
  {
   "cell_type": "code",
   "execution_count": 8,
   "metadata": {},
   "outputs": [
    {
     "name": "stdout",
     "output_type": "stream",
     "text": [
      "[{'aspect': 'food', 'description': 'delicious', 'sentiment': Sentiment(polarity=1.0, subjectivity=1.0)}, {'aspect': 'time', 'description': 'very enjoyable', 'sentiment': Sentiment(polarity=0.65, subjectivity=0.78)}, {'aspect': 'meal', 'description': 'tasty', 'sentiment': Sentiment(polarity=0.0, subjectivity=0.0)}, {'aspect': 'internet', 'description': 'slow', 'sentiment': Sentiment(polarity=-0.30000000000000004, subjectivity=0.39999999999999997)}, {'aspect': 'experience', 'description': 'suboptimal', 'sentiment': Sentiment(polarity=0.0, subjectivity=0.0)}]\n"
     ]
    }
   ],
   "source": [
    "from textblob import TextBlob\n",
    "for aspect in aspects:\n",
    "  aspect['sentiment'] = TextBlob(aspect['description']).sentiment\n",
    "print(aspects)"
   ]
  },
  {
   "cell_type": "markdown",
   "metadata": {},
   "source": [
    "looking at the results we can notice that the adjectives \"tasty\" and \"suboptimal\" are considered neutral. It looks like they are not part of TextBlob's dictionary and therefore not picked up.\n",
    "\n",
    "TextBlob allows us to train a NaiveBayesClassifier using a very simple and easy-to-understand syntax for everyone, which we will use to improve our sentiment analysis. \n",
    "\n",
    "Thus, we will perform a Corpus-Based Sentiment Lexicon Acquisition using TextBlob "
   ]
  },
  {
   "cell_type": "code",
   "execution_count": null,
   "metadata": {},
   "outputs": [],
   "source": [
    "!python -m textblob.download_corpora"
   ]
  },
  {
   "cell_type": "code",
   "execution_count": 10,
   "metadata": {},
   "outputs": [
    {
     "name": "stdout",
     "output_type": "stream",
     "text": [
      "Delicious food.\n",
      "positive\n",
      "Very Slow internet.\n",
      "negative\n",
      "Suboptimal experience.\n",
      "negative\n",
      "Enjoyable food.\n",
      "negative\n"
     ]
    }
   ],
   "source": [
    "from textblob.classifiers import NaiveBayesClassifier\n",
    "# We train the NaivesBayesClassifier\n",
    "train = [\n",
    "  ('Slow internet.', 'negative'),\n",
    "  ('Delicious food', 'positive'),\n",
    "  ('Suboptimal experience', 'negative'),\n",
    "  ('Very enjoyable time', 'positive'),\n",
    "  ('delicious food.', 'negative')\n",
    "]\n",
    "cl = NaiveBayesClassifier(train)# And then we try to classify some sample sentences.\n",
    "blob = TextBlob(\"Delicious food. Very Slow internet. Suboptimal experience. Enjoyable food.\", classifier=cl)\n",
    "for s in blob.sentences:\n",
    "  print(s)\n",
    "  print(s.classify())"
   ]
  },
  {
   "cell_type": "markdown",
   "metadata": {},
   "source": [
    "We will now redo our classification using the trainer model"
   ]
  },
  {
   "cell_type": "code",
   "execution_count": 11,
   "metadata": {},
   "outputs": [
    {
     "name": "stdout",
     "output_type": "stream",
     "text": [
      "[{'aspect': 'food', 'description': 'delicious', 'sentiment': 'negative'}, {'aspect': 'time', 'description': 'very enjoyable', 'sentiment': 'positive'}, {'aspect': 'meal', 'description': 'tasty', 'sentiment': 'negative'}, {'aspect': 'internet', 'description': 'slow', 'sentiment': 'negative'}, {'aspect': 'experience', 'description': 'suboptimal', 'sentiment': 'negative'}]\n"
     ]
    }
   ],
   "source": [
    "from textblob import TextBlob\n",
    "for aspect in aspects:\n",
    "  blob = TextBlob(aspect['description'], classifier=cl)  \n",
    "  aspect['sentiment'] = blob.classify()\n",
    "print(aspects)"
   ]
  },
  {
   "cell_type": "markdown",
   "metadata": {},
   "source": [
    "# To DO:\n",
    "\n",
    "1. Try on other sentences using the classifier "
   ]
  },
  {
   "cell_type": "code",
   "execution_count": 13,
   "metadata": {},
   "outputs": [
    {
     "name": "stdout",
     "output_type": "stream",
     "text": [
      "[{'aspect': '', 'description': 'great'}, {'aspect': '', 'description': ''}, {'aspect': 'guy', 'description': 'able'}, {'aspect': '', 'description': 'very professional'}, {'aspect': '', 'description': 'friendly'}]\n"
     ]
    }
   ],
   "source": [
    "sentences = [\n",
    "  'Loved the work. It was great. Looking forward to working with again.',\n",
    "  'Super service',\n",
    "  'Great guy, was able to finish what he promised upfront. I look forwarding to working with you again man, thank you!',\n",
    "  'It was great working with you , very professional . Thank you for your service.',\n",
    "  'A good experience with clear and friendly communication.'\n",
    "]\n",
    "\n",
    "aspects = []\n",
    "for sentence in sentences:\n",
    "  doc = nlp(sentence)\n",
    "  descriptive_term = ''\n",
    "  target = ''\n",
    "  for token in doc:\n",
    "    if token.dep_ == 'nsubj' and token.pos_ == 'NOUN':\n",
    "      target = token.text\n",
    "    if token.pos_ == 'ADJ':\n",
    "      prepend = ''\n",
    "      for child in token.children:\n",
    "        if child.pos_ != 'ADV':\n",
    "          continue\n",
    "        prepend += child.text + ' '\n",
    "      descriptive_term = prepend + token.text  \n",
    "    \n",
    "  aspects.append({'aspect': target,'description': descriptive_term})\n",
    "print(aspects)\n",
    "\n"
   ]
  },
  {
   "cell_type": "code",
   "execution_count": 17,
   "metadata": {},
   "outputs": [
    {
     "name": "stdout",
     "output_type": "stream",
     "text": [
      "Great guy, was able to finish what he promised upfront.\n",
      "positive\n",
      "I look forwarding to working with you again man, thank you!.\n",
      "positive\n"
     ]
    }
   ],
   "source": [
    "train = [\n",
    "  ('love.', 'positve'),\n",
    "  ('great ', 'positive'),\n",
    "  ('super ', 'positive'),\n",
    "  ('good experience', 'positive'),\n",
    "  ('Thank you', 'positive')\n",
    "]\n",
    "cl = NaiveBayesClassifier(train)# And then we try to classify some sample sentences.\n",
    "blob = TextBlob(\"Great guy, was able to finish what he promised upfront. I look forwarding to working with you again man, thank you!.\", classifier=cl)\n",
    "for s in blob.sentences:\n",
    "  print(s)\n",
    "  print(s.classify())"
   ]
  },
  {
   "cell_type": "code",
   "execution_count": 18,
   "metadata": {},
   "outputs": [
    {
     "name": "stdout",
     "output_type": "stream",
     "text": [
      "[{'aspect': '', 'description': 'great', 'sentiment': 'positive'}, {'aspect': '', 'description': '', 'sentiment': 'positive'}, {'aspect': 'guy', 'description': 'able', 'sentiment': 'positive'}, {'aspect': '', 'description': 'very professional', 'sentiment': 'positive'}, {'aspect': '', 'description': 'friendly', 'sentiment': 'positive'}]\n"
     ]
    }
   ],
   "source": [
    "for aspect in aspects:\n",
    "  blob = TextBlob(aspect['description'], classifier=cl)  \n",
    "  aspect['sentiment'] = blob.classify()\n",
    "print(aspects)"
   ]
  },
  {
   "cell_type": "code",
   "execution_count": null,
   "metadata": {},
   "outputs": [],
   "source": []
  }
 ],
 "metadata": {
  "kernelspec": {
   "display_name": "Python 3 (ipykernel)",
   "language": "python",
   "name": "python3"
  },
  "language_info": {
   "codemirror_mode": {
    "name": "ipython",
    "version": 3
   },
   "file_extension": ".py",
   "mimetype": "text/x-python",
   "name": "python",
   "nbconvert_exporter": "python",
   "pygments_lexer": "ipython3",
   "version": "3.8.10"
  }
 },
 "nbformat": 4,
 "nbformat_minor": 2
}
